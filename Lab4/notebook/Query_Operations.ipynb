{
 "cells": [
  {
   "cell_type": "markdown",
   "id": "ae0630fa",
   "metadata": {},
   "source": [
    "## Query Operations"
   ]
  },
  {
   "cell_type": "code",
   "execution_count": 11,
   "id": "5183162a",
   "metadata": {},
   "outputs": [
    {
     "name": "stderr",
     "output_type": "stream",
     "text": [
      "[nltk_data] Downloading package wordnet to\n",
      "[nltk_data]     C:\\Users\\Pralo\\AppData\\Roaming\\nltk_data...\n",
      "[nltk_data]   Package wordnet is already up-to-date!\n",
      "[nltk_data] Downloading package punkt to\n",
      "[nltk_data]     C:\\Users\\Pralo\\AppData\\Roaming\\nltk_data...\n",
      "[nltk_data]   Package punkt is already up-to-date!\n",
      "[nltk_data] Downloading package punkt_tab to\n",
      "[nltk_data]     C:\\Users\\Pralo\\AppData\\Roaming\\nltk_data...\n",
      "[nltk_data]   Package punkt_tab is already up-to-date!\n"
     ]
    },
    {
     "data": {
      "text/plain": [
       "True"
      ]
     },
     "execution_count": 11,
     "metadata": {},
     "output_type": "execute_result"
    }
   ],
   "source": [
    "import numpy as np\n",
    "import pandas as pd\n",
    "import nltk\n",
    "from nltk.corpus import wordnet as wn\n",
    "from nltk.util import ngrams\n",
    "from collections import defaultdict, Counter\n",
    "import re\n",
    "\n",
    "nltk.download('wordnet')\n",
    "nltk.download('punkt')\n",
    "nltk.download('punkt_tab')"
   ]
  },
  {
   "cell_type": "markdown",
   "id": "cf1eeae5",
   "metadata": {},
   "source": [
    "### Query Exapansion"
   ]
  },
  {
   "cell_type": "markdown",
   "id": "110ce9eb",
   "metadata": {},
   "source": [
    "#### Using WordNet "
   ]
  },
  {
   "cell_type": "code",
   "execution_count": 12,
   "id": "16214c1a",
   "metadata": {},
   "outputs": [],
   "source": [
    "from nltk.corpus import wordnet"
   ]
  },
  {
   "cell_type": "code",
   "execution_count": 13,
   "id": "3fdb5194",
   "metadata": {},
   "outputs": [],
   "source": [
    "def query_expansion(word):\n",
    "    synonyms = set()\n",
    "    for syn in wordnet.synsets(word):\n",
    "        for lemma in syn.lemmas():\n",
    "            synonyms.add(lemma.name().replace(\"_\", \" \"))\n",
    "    return list(synonyms)"
   ]
  },
  {
   "cell_type": "markdown",
   "id": "537a09d2",
   "metadata": {},
   "source": [
    "### Spelling Correction"
   ]
  },
  {
   "cell_type": "markdown",
   "id": "4923197c",
   "metadata": {},
   "source": [
    "#### Edit distance"
   ]
  },
  {
   "cell_type": "code",
   "execution_count": 16,
   "id": "5bbb6a7a",
   "metadata": {},
   "outputs": [],
   "source": [
    "def edit_distance(w1, w2):\n",
    "    m, n = len(w1), len(w2)\n",
    "    dp = [[0] * (n + 1) for _ in range(m + 1)]\n",
    "\n",
    "    for i in range(m + 1):\n",
    "        dp[i][0] = i\n",
    "    for j in range(n + 1):\n",
    "        dp[0][j] = j\n",
    "\n",
    "    for i in range(1, m + 1):\n",
    "        for j in range(1, n + 1):\n",
    "            cost = 0 if w1[i-1] == w2[j-1] else 1\n",
    "            dp[i][j] = min(\n",
    "                dp[i-1][j] + 1,     # deletion\n",
    "                dp[i][j-1] + 1,     # insertion\n",
    "                dp[i-1][j-1] + cost # substitution\n",
    "            )\n",
    "    return dp[m][n]\n",
    "\n",
    "\n",
    "def correct_word_edit_distance(word, dictionary):\n",
    "    best_word = word\n",
    "    min_dist = float(\"inf\")\n",
    "    for candidate in dictionary:\n",
    "        dist = edit_distance(word, candidate)\n",
    "        if dist < min_dist:\n",
    "            min_dist = dist\n",
    "            best_word = candidate\n",
    "    return best_word\n"
   ]
  },
  {
   "cell_type": "markdown",
   "id": "32b3d7a1",
   "metadata": {},
   "source": [
    "#### K-gram indexes(characters bigrams example)"
   ]
  },
  {
   "cell_type": "code",
   "execution_count": 17,
   "id": "12e2ddc1",
   "metadata": {},
   "outputs": [],
   "source": [
    "def build_kgram_index(dictionary, k=2):\n",
    "    index = defaultdict(set)\n",
    "    for word in dictionary:\n",
    "        grams = get_kgrams(word, k)\n",
    "        for g in grams:\n",
    "            index[g].add(word)\n",
    "    return index\n",
    "\n",
    "\n",
    "def get_kgrams(word, k=2):\n",
    "    word = f\"${word}$\"\n",
    "    return [word[i:i+k] for i in range(len(word)-k+1)]\n",
    "\n",
    "\n",
    "def correct_word_kgram(word, dictionary, k=2):\n",
    "    index = build_kgram_index(dictionary, k)\n",
    "    grams = get_kgrams(word, k)\n",
    "\n",
    "    candidates = defaultdict(int)\n",
    "    for g in grams:\n",
    "        for cand in index.get(g, []):\n",
    "            candidates[cand] += 1\n",
    "\n",
    "    if not candidates:\n",
    "        return word\n",
    "\n",
    "    return max(candidates, key=candidates.get)\n"
   ]
  },
  {
   "cell_type": "markdown",
   "id": "cf09ba63",
   "metadata": {},
   "source": [
    "### Query Languages"
   ]
  },
  {
   "cell_type": "code",
   "execution_count": null,
   "id": "f07e131f",
   "metadata": {},
   "outputs": [],
   "source": [
    "documents = {\n",
    "    1: \"I like to eat apple and mango\",\n",
    "    2: \"Banana is yellow and sweet\",\n",
    "    3: \"Grapes are small and juicy\",\n",
    "    4: \"Orange and apple juice is tasty\",\n",
    "}"
   ]
  },
  {
   "cell_type": "markdown",
   "id": "29536296",
   "metadata": {},
   "source": [
    "#### Single-Word Query"
   ]
  },
  {
   "cell_type": "code",
   "execution_count": 19,
   "id": "83584d4a",
   "metadata": {},
   "outputs": [],
   "source": [
    "def search_single_word(word):\n",
    "    results = []\n",
    "    for doc_id, text in documents.items():\n",
    "        if word.lower() in text.lower():\n",
    "            results.append(doc_id)\n",
    "    return results"
   ]
  },
  {
   "cell_type": "markdown",
   "id": "ea3e9aaf",
   "metadata": {},
   "source": [
    "#### Context Queries"
   ]
  },
  {
   "cell_type": "code",
   "execution_count": 20,
   "id": "e9ae9975",
   "metadata": {},
   "outputs": [],
   "source": [
    "def search_context(words):\n",
    "    results = []\n",
    "    for doc_id, text in documents.items():\n",
    "        if all(w.lower() in text.lower() for w in words):\n",
    "            results.append(doc_id)\n",
    "    return results"
   ]
  },
  {
   "cell_type": "markdown",
   "id": "8c61545e",
   "metadata": {},
   "source": [
    "#### Boolean Query"
   ]
  },
  {
   "cell_type": "code",
   "execution_count": 21,
   "id": "65b83a98",
   "metadata": {},
   "outputs": [],
   "source": [
    "def search_boolean(query):\n",
    "    query = query.replace(\"AND\", \"and\").replace(\"OR\", \"or\").replace(\"NOT\", \"not\")\n",
    "    results = []\n",
    "    for doc_id, text in documents.items():\n",
    "        expr = query\n",
    "        for word in set(query.split()):\n",
    "            if word.lower() not in [\"and\", \"or\", \"not\", \"(\", \")\"]:\n",
    "                expr = expr.replace(word, str(word.lower() in text.lower()))\n",
    "        if eval(expr):\n",
    "            results.append(doc_id)\n",
    "    return results"
   ]
  },
  {
   "cell_type": "markdown",
   "id": "dd4637b7",
   "metadata": {},
   "source": [
    "#### Structual Query"
   ]
  },
  {
   "cell_type": "code",
   "execution_count": 22,
   "id": "ecd45a48",
   "metadata": {},
   "outputs": [],
   "source": [
    "def search_structural(query):\n",
    "    return search_boolean(query)"
   ]
  },
  {
   "cell_type": "markdown",
   "id": "545f1889",
   "metadata": {},
   "source": [
    "#### Natural language Query"
   ]
  },
  {
   "cell_type": "code",
   "execution_count": 23,
   "id": "63028df8",
   "metadata": {},
   "outputs": [],
   "source": [
    "def search_natural_language(query):\n",
    "    keywords = [w for w in query.lower().split() if w not in [\"find\", \"documents\", \"about\"]]\n",
    "    return search_context(keywords)"
   ]
  },
  {
   "cell_type": "markdown",
   "id": "1b68828b",
   "metadata": {},
   "source": [
    "### Output for Query Expansion"
   ]
  },
  {
   "cell_type": "code",
   "execution_count": 30,
   "id": "b70db215",
   "metadata": {},
   "outputs": [
    {
     "name": "stdout",
     "output_type": "stream",
     "text": [
      "Query Expansion for: apple\n",
      "['apple', 'Malus pumila', 'orchard apple tree']\n"
     ]
    }
   ],
   "source": [
    "word = \"apple\"\n",
    "print(\"Query Expansion for:\", word)\n",
    "print(query_expansion(word))"
   ]
  },
  {
   "cell_type": "markdown",
   "id": "b87b4fd0",
   "metadata": {},
   "source": [
    "### Outpur for Spelling Correction"
   ]
  },
  {
   "cell_type": "code",
   "execution_count": 28,
   "id": "3e8eb5b3",
   "metadata": {},
   "outputs": [
    {
     "name": "stdout",
     "output_type": "stream",
     "text": [
      "Corrected (Edit Distance): retrieval\n",
      "Corrected (K-Gram): retrieval\n"
     ]
    }
   ],
   "source": [
    "dictionary = [\"information\", \"retrieval\", \"system\", \"query\", \"expansion\", \"spelling\", \"correction\"]\n",
    "\n",
    "print(\"Corrected (Edit Distance):\", correct_word_edit_distance(\"retriveal\", dictionary))\n",
    "print(\"Corrected (K-Gram):\", correct_word_kgram(\"retriveal\", dictionary))"
   ]
  },
  {
   "cell_type": "markdown",
   "id": "f1897654",
   "metadata": {},
   "source": [
    "### Output for Query Languages"
   ]
  },
  {
   "cell_type": "code",
   "execution_count": 29,
   "id": "b9d5d4d0",
   "metadata": {},
   "outputs": [
    {
     "name": "stdout",
     "output_type": "stream",
     "text": [
      "Single Word Query (apple): [1, 4]\n",
      "Context Query (apple, mango): [1]\n",
      "Boolean Query ((apple AND mango) OR orange): [4]\n",
      "Structural Query ((apple AND banana) OR grape): [3]\n",
      "Natural Language Query (find documents about apple and mango): [1]\n"
     ]
    }
   ],
   "source": [
    "print(\"Single Word Query (apple):\", search_single_word(\"apple\"))\n",
    "print(\"Context Query (apple, mango):\", search_context([\"apple\", \"mango\"]))\n",
    "print(\"Boolean Query ((apple AND mango) OR orange):\", search_boolean(\"(apple AND mango) OR orange\"))\n",
    "print(\"Structural Query ((apple AND banana) OR grape):\", search_structural(\"(apple AND banana) OR grape\"))\n",
    "print(\"Natural Language Query (find documents about apple and mango):\", \n",
    "      search_natural_language(\"find documents about apple and mango\"))"
   ]
  }
 ],
 "metadata": {
  "kernelspec": {
   "display_name": "myenv",
   "language": "python",
   "name": "python3"
  },
  "language_info": {
   "codemirror_mode": {
    "name": "ipython",
    "version": 3
   },
   "file_extension": ".py",
   "mimetype": "text/x-python",
   "name": "python",
   "nbconvert_exporter": "python",
   "pygments_lexer": "ipython3",
   "version": "3.13.2"
  }
 },
 "nbformat": 4,
 "nbformat_minor": 5
}
