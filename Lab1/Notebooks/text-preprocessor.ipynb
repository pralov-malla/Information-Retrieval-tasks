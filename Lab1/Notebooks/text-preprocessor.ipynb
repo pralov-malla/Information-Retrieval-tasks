{
 "cells": [
  {
   "cell_type": "markdown",
   "id": "b7713f61",
   "metadata": {},
   "source": [
    "## Creating Dataframe from dictionary"
   ]
  },
  {
   "cell_type": "code",
   "execution_count": 4,
   "id": "5f288111",
   "metadata": {},
   "outputs": [],
   "source": [
    "import pandas as pd"
   ]
  },
  {
   "cell_type": "code",
   "execution_count": 5,
   "id": "3d1aa9f2",
   "metadata": {},
   "outputs": [],
   "source": [
    "data = {\n",
    "    \"Customer Name\": [\n",
    "        \"Pralov\", \"Abhishek\", \"Swoyesh\", \"Aakash\", \"Swoyesh\", \"Anika\", \"Steve\", \"Fatima\", \"Nikhil\", \"Jasmine\",\n",
    "        \"Omar\", \"Laxmi\", \"Ben\", \"Mina\", \"Raj\", \"Sonia\", \"Alex\", \"Kabir\", \"Priya\", \"Zara\"\n",
    "    ],\n",
    "    \"Feedback\": [\n",
    "        \"The course on AI was 🔥🔥. I learned a ton!!\",\n",
    "        \"why is the quiz not loading??? pls fix it asap!!\",\n",
    "        \"Love the UI, but some buttons <i>don't respond</i> on mobile.\",\n",
    "        \"Very detailed explanations! Props to the instructors 🙏\",\n",
    "        \"video #4 keeps buffering... even tho my net is fine :(\",\n",
    "        \"Where’s the certificate download option?? couldn’t find it!\",\n",
    "        \"Great platform overall, but the search feature sux...\",\n",
    "        \"I’ve emailed support twice about my payment issue. No reply.\",\n",
    "        \"some typos in the Python basics module. pls correct 🙃\",\n",
    "        \"I like the badges system. Makes it feel like a game 🎮\",\n",
    "        \"Please add subtitles for non-English speakers.\",\n",
    "        \"Lesson 7 has a broken video link: <a href='http://vidhost.com/404'>Watch</a>\",\n",
    "        \"Too many ads before each video 😤\",\n",
    "        \"App crashed 3 times while taking the test!!!\",\n",
    "        \"The daily streak system is motivating 💪\",\n",
    "        \"Would love if you could add dark mode 🌙\",\n",
    "        \"Forum discussions are so helpful. Thanks, team!\",\n",
    "        \"Quiz timer is too short! 😓 barely finished in time\",\n",
    "        \"Voice of instructor in module 2 is hard to understand.\",\n",
    "        \"I finally finished my first course. Yay!! 🎉\"\n",
    "    ]\n",
    "}\n"
   ]
  },
  {
   "cell_type": "code",
   "execution_count": 6,
   "id": "ce18d45f",
   "metadata": {},
   "outputs": [],
   "source": [
    "df = pd.DataFrame(data)"
   ]
  },
  {
   "cell_type": "code",
   "execution_count": 7,
   "id": "df9173c3",
   "metadata": {},
   "outputs": [
    {
     "data": {
      "text/html": [
       "<div>\n",
       "<style scoped>\n",
       "    .dataframe tbody tr th:only-of-type {\n",
       "        vertical-align: middle;\n",
       "    }\n",
       "\n",
       "    .dataframe tbody tr th {\n",
       "        vertical-align: top;\n",
       "    }\n",
       "\n",
       "    .dataframe thead th {\n",
       "        text-align: right;\n",
       "    }\n",
       "</style>\n",
       "<table border=\"1\" class=\"dataframe\">\n",
       "  <thead>\n",
       "    <tr style=\"text-align: right;\">\n",
       "      <th></th>\n",
       "      <th>Customer Name</th>\n",
       "      <th>Feedback</th>\n",
       "    </tr>\n",
       "  </thead>\n",
       "  <tbody>\n",
       "    <tr>\n",
       "      <th>0</th>\n",
       "      <td>Pralov</td>\n",
       "      <td>The course on AI was 🔥🔥. I learned a ton!!</td>\n",
       "    </tr>\n",
       "    <tr>\n",
       "      <th>1</th>\n",
       "      <td>Abhishek</td>\n",
       "      <td>why is the quiz not loading??? pls fix it asap!!</td>\n",
       "    </tr>\n",
       "    <tr>\n",
       "      <th>2</th>\n",
       "      <td>Swoyesh</td>\n",
       "      <td>Love the UI, but some buttons &lt;i&gt;don't respond...</td>\n",
       "    </tr>\n",
       "    <tr>\n",
       "      <th>3</th>\n",
       "      <td>Aakash</td>\n",
       "      <td>Very detailed explanations! Props to the instr...</td>\n",
       "    </tr>\n",
       "    <tr>\n",
       "      <th>4</th>\n",
       "      <td>Swoyesh</td>\n",
       "      <td>video #4 keeps buffering... even tho my net is...</td>\n",
       "    </tr>\n",
       "  </tbody>\n",
       "</table>\n",
       "</div>"
      ],
      "text/plain": [
       "  Customer Name                                           Feedback\n",
       "0        Pralov         The course on AI was 🔥🔥. I learned a ton!!\n",
       "1      Abhishek   why is the quiz not loading??? pls fix it asap!!\n",
       "2       Swoyesh  Love the UI, but some buttons <i>don't respond...\n",
       "3        Aakash  Very detailed explanations! Props to the instr...\n",
       "4       Swoyesh  video #4 keeps buffering... even tho my net is..."
      ]
     },
     "execution_count": 7,
     "metadata": {},
     "output_type": "execute_result"
    }
   ],
   "source": [
    "df.head(5)"
   ]
  },
  {
   "cell_type": "code",
   "execution_count": 8,
   "id": "de207d41",
   "metadata": {},
   "outputs": [],
   "source": [
    "feedback_df = df[['Feedback']]"
   ]
  },
  {
   "cell_type": "code",
   "execution_count": 9,
   "id": "5df0e7a6",
   "metadata": {},
   "outputs": [
    {
     "data": {
      "text/html": [
       "<div>\n",
       "<style scoped>\n",
       "    .dataframe tbody tr th:only-of-type {\n",
       "        vertical-align: middle;\n",
       "    }\n",
       "\n",
       "    .dataframe tbody tr th {\n",
       "        vertical-align: top;\n",
       "    }\n",
       "\n",
       "    .dataframe thead th {\n",
       "        text-align: right;\n",
       "    }\n",
       "</style>\n",
       "<table border=\"1\" class=\"dataframe\">\n",
       "  <thead>\n",
       "    <tr style=\"text-align: right;\">\n",
       "      <th></th>\n",
       "      <th>Feedback</th>\n",
       "    </tr>\n",
       "  </thead>\n",
       "  <tbody>\n",
       "    <tr>\n",
       "      <th>0</th>\n",
       "      <td>The course on AI was 🔥🔥. I learned a ton!!</td>\n",
       "    </tr>\n",
       "    <tr>\n",
       "      <th>1</th>\n",
       "      <td>why is the quiz not loading??? pls fix it asap!!</td>\n",
       "    </tr>\n",
       "    <tr>\n",
       "      <th>2</th>\n",
       "      <td>Love the UI, but some buttons &lt;i&gt;don't respond...</td>\n",
       "    </tr>\n",
       "    <tr>\n",
       "      <th>3</th>\n",
       "      <td>Very detailed explanations! Props to the instr...</td>\n",
       "    </tr>\n",
       "    <tr>\n",
       "      <th>4</th>\n",
       "      <td>video #4 keeps buffering... even tho my net is...</td>\n",
       "    </tr>\n",
       "  </tbody>\n",
       "</table>\n",
       "</div>"
      ],
      "text/plain": [
       "                                            Feedback\n",
       "0         The course on AI was 🔥🔥. I learned a ton!!\n",
       "1   why is the quiz not loading??? pls fix it asap!!\n",
       "2  Love the UI, but some buttons <i>don't respond...\n",
       "3  Very detailed explanations! Props to the instr...\n",
       "4  video #4 keeps buffering... even tho my net is..."
      ]
     },
     "execution_count": 9,
     "metadata": {},
     "output_type": "execute_result"
    }
   ],
   "source": [
    "feedback_df.head(5)"
   ]
  },
  {
   "cell_type": "code",
   "execution_count": 10,
   "id": "b7d6301c",
   "metadata": {},
   "outputs": [],
   "source": [
    "full_forms = {\n",
    "    \"ASAP\": \"As Soon As Possible\",\n",
    "    \"UI\": \"User Interface\",\n",
    "    \"UX\": \"User Experience\",\n",
    "    \"AI\": \"Artificial Intelligence\",\n",
    "    \"IT\": \"Information Technology\",\n",
    "    \"HR\": \"Human Resources\",\n",
    "    \"CEO\": \"Chief Executive Officer\",\n",
    "    \"CFO\": \"Chief Financial Officer\",\n",
    "    \"CTO\": \"Chief Technology Officer\",\n",
    "    \"FAQ\": \"Frequently Asked Questions\",\n",
    "    \"ETA\": \"Estimated Time of Arrival\",\n",
    "    \"API\": \"Application Programming Interface\",\n",
    "    \"HTTP\": \"HyperText Transfer Protocol\",\n",
    "    \"HTML\": \"HyperText Markup Language\",\n",
    "    \"SQL\": \"Structured Query Language\",\n",
    "    \"DB\": \"Database\",\n",
    "    \"VPN\": \"Virtual Private Network\",\n",
    "    \"IP\": \"Internet Protocol\",\n",
    "    \"R&D\": \"Research and Development\",\n",
    "    \"KPI\": \"Key Performance Indicator\",\n",
    "    \"TBD\": \"To Be Decided\",\n",
    "    \"FYI\": \"For Your Information\",\n",
    "    \"BTW\": \"By The Way\",\n",
    "    \"IDK\": \"I Don't Know\",\n",
    "    \"BRB\": \"Be Right Back\",\n",
    "    \"IMO\": \"In My Opinion\",\n",
    "    \"LOL\": \"Laughing Out Loud\",\n",
    "    \"OMG\": \"Oh My God\",\n",
    "    \"LMAO\": \"Laughing My Ass Off\",\n",
    "    \"TBH\": \"To Be Honest\",\n",
    "    \"TY\": \"Thank You\",\n",
    "    \"THX\": \"Thanks\",\n",
    "    \"NP\": \"No Problem\",\n",
    "    \"PM\": \"Project Manager\"\n",
    "}"
   ]
  },
  {
   "cell_type": "markdown",
   "id": "9d5cf523",
   "metadata": {},
   "source": [
    "### 1. Expanding Acronyms"
   ]
  },
  {
   "cell_type": "code",
   "execution_count": 11,
   "id": "3864c627",
   "metadata": {},
   "outputs": [],
   "source": [
    "import re"
   ]
  },
  {
   "cell_type": "code",
   "execution_count": 12,
   "id": "21febd13",
   "metadata": {},
   "outputs": [],
   "source": [
    "# First of all expanding acronyms to their respective fullforms"
   ]
  },
  {
   "cell_type": "code",
   "execution_count": 13,
   "id": "b724b509",
   "metadata": {},
   "outputs": [],
   "source": [
    "def expand_acronyms(text):\n",
    "    def replace(match):\n",
    "        word = match.group(0)\n",
    "        return full_forms.get(word.upper(), word)\n",
    "    return re.sub(r'\\b[A-Z]{2,}\\b', replace, text)"
   ]
  },
  {
   "cell_type": "code",
   "execution_count": 14,
   "id": "80dfa338",
   "metadata": {},
   "outputs": [
    {
     "name": "stderr",
     "output_type": "stream",
     "text": [
      "C:\\Users\\Pralo\\AppData\\Local\\Temp\\ipykernel_1544\\721242483.py:1: SettingWithCopyWarning: \n",
      "A value is trying to be set on a copy of a slice from a DataFrame.\n",
      "Try using .loc[row_indexer,col_indexer] = value instead\n",
      "\n",
      "See the caveats in the documentation: https://pandas.pydata.org/pandas-docs/stable/user_guide/indexing.html#returning-a-view-versus-a-copy\n",
      "  feedback_df['Feedback'] = feedback_df['Feedback'].apply(expand_acronyms)\n"
     ]
    }
   ],
   "source": [
    "feedback_df['Feedback'] = feedback_df['Feedback'].apply(expand_acronyms)"
   ]
  },
  {
   "cell_type": "code",
   "execution_count": 15,
   "id": "74ee7855",
   "metadata": {},
   "outputs": [
    {
     "data": {
      "text/html": [
       "<div>\n",
       "<style scoped>\n",
       "    .dataframe tbody tr th:only-of-type {\n",
       "        vertical-align: middle;\n",
       "    }\n",
       "\n",
       "    .dataframe tbody tr th {\n",
       "        vertical-align: top;\n",
       "    }\n",
       "\n",
       "    .dataframe thead th {\n",
       "        text-align: right;\n",
       "    }\n",
       "</style>\n",
       "<table border=\"1\" class=\"dataframe\">\n",
       "  <thead>\n",
       "    <tr style=\"text-align: right;\">\n",
       "      <th></th>\n",
       "      <th>Feedback</th>\n",
       "    </tr>\n",
       "  </thead>\n",
       "  <tbody>\n",
       "    <tr>\n",
       "      <th>1</th>\n",
       "      <td>why is the quiz not loading??? pls fix it asap!!</td>\n",
       "    </tr>\n",
       "    <tr>\n",
       "      <th>3</th>\n",
       "      <td>Very detailed explanations! Props to the instr...</td>\n",
       "    </tr>\n",
       "    <tr>\n",
       "      <th>15</th>\n",
       "      <td>Would love if you could add dark mode 🌙</td>\n",
       "    </tr>\n",
       "    <tr>\n",
       "      <th>11</th>\n",
       "      <td>Lesson 7 has a broken video link: &lt;a href='htt...</td>\n",
       "    </tr>\n",
       "    <tr>\n",
       "      <th>9</th>\n",
       "      <td>I like the badges system. Makes it feel like a...</td>\n",
       "    </tr>\n",
       "  </tbody>\n",
       "</table>\n",
       "</div>"
      ],
      "text/plain": [
       "                                             Feedback\n",
       "1    why is the quiz not loading??? pls fix it asap!!\n",
       "3   Very detailed explanations! Props to the instr...\n",
       "15            Would love if you could add dark mode 🌙\n",
       "11  Lesson 7 has a broken video link: <a href='htt...\n",
       "9   I like the badges system. Makes it feel like a..."
      ]
     },
     "execution_count": 15,
     "metadata": {},
     "output_type": "execute_result"
    }
   ],
   "source": [
    "feedback_df.sample(5)"
   ]
  },
  {
   "cell_type": "markdown",
   "id": "90b2c9dc",
   "metadata": {},
   "source": [
    "### 2. Lowercasing all the Feedbacks"
   ]
  },
  {
   "cell_type": "code",
   "execution_count": 16,
   "id": "d47f9b23",
   "metadata": {},
   "outputs": [
    {
     "name": "stderr",
     "output_type": "stream",
     "text": [
      "C:\\Users\\Pralo\\AppData\\Local\\Temp\\ipykernel_1544\\2090665252.py:1: SettingWithCopyWarning: \n",
      "A value is trying to be set on a copy of a slice from a DataFrame.\n",
      "Try using .loc[row_indexer,col_indexer] = value instead\n",
      "\n",
      "See the caveats in the documentation: https://pandas.pydata.org/pandas-docs/stable/user_guide/indexing.html#returning-a-view-versus-a-copy\n",
      "  feedback_df['Feedback'] = feedback_df['Feedback'].str.lower()\n"
     ]
    }
   ],
   "source": [
    "feedback_df['Feedback'] = feedback_df['Feedback'].str.lower()"
   ]
  },
  {
   "cell_type": "markdown",
   "id": "b3fcba3f",
   "metadata": {},
   "source": [
    "### 3. Removing emojis "
   ]
  },
  {
   "cell_type": "code",
   "execution_count": 17,
   "id": "dfa9ab4e",
   "metadata": {},
   "outputs": [],
   "source": [
    "def remove_emojis(text):\n",
    "    emoji_pattern = re.compile(\n",
    "        \"[\"\n",
    "        u\"\\U0001F600-\\U0001F64F\"  # emoticons\n",
    "        u\"\\U0001F300-\\U0001F5FF\"  # symbols & pictographs\n",
    "        u\"\\U0001F680-\\U0001F6FF\"  # transport & map symbols\n",
    "        u\"\\U0001F1E0-\\U0001F1FF\"  # flags (iOS)\n",
    "        u\"\\U00002702-\\U000027B0\"  # other symbols\n",
    "        u\"\\U000024C2-\\U0001F251\"\n",
    "        \"]+\",\n",
    "        flags=re.UNICODE\n",
    "    )\n",
    "    return emoji_pattern.sub(r'', text)"
   ]
  },
  {
   "cell_type": "code",
   "execution_count": 18,
   "id": "dbf7e983",
   "metadata": {},
   "outputs": [
    {
     "name": "stderr",
     "output_type": "stream",
     "text": [
      "C:\\Users\\Pralo\\AppData\\Local\\Temp\\ipykernel_1544\\1964647623.py:1: SettingWithCopyWarning: \n",
      "A value is trying to be set on a copy of a slice from a DataFrame.\n",
      "Try using .loc[row_indexer,col_indexer] = value instead\n",
      "\n",
      "See the caveats in the documentation: https://pandas.pydata.org/pandas-docs/stable/user_guide/indexing.html#returning-a-view-versus-a-copy\n",
      "  feedback_df[\"Feedback\"] = feedback_df[\"Feedback\"].apply(remove_emojis)\n"
     ]
    }
   ],
   "source": [
    "feedback_df[\"Feedback\"] = feedback_df[\"Feedback\"].apply(remove_emojis)"
   ]
  },
  {
   "cell_type": "markdown",
   "id": "37c6c4fb",
   "metadata": {},
   "source": [
    "### 4. Removing HTML tags"
   ]
  },
  {
   "cell_type": "code",
   "execution_count": 19,
   "id": "ed97c55d",
   "metadata": {},
   "outputs": [],
   "source": [
    "def remove_html_tags(text):\n",
    "    html_pattern = re.compile(r'<.*?>')\n",
    "    return html_pattern.sub('', text)"
   ]
  },
  {
   "cell_type": "code",
   "execution_count": 21,
   "id": "870144c5",
   "metadata": {},
   "outputs": [
    {
     "name": "stderr",
     "output_type": "stream",
     "text": [
      "C:\\Users\\Pralo\\AppData\\Local\\Temp\\ipykernel_1544\\3529359860.py:1: SettingWithCopyWarning: \n",
      "A value is trying to be set on a copy of a slice from a DataFrame.\n",
      "Try using .loc[row_indexer,col_indexer] = value instead\n",
      "\n",
      "See the caveats in the documentation: https://pandas.pydata.org/pandas-docs/stable/user_guide/indexing.html#returning-a-view-versus-a-copy\n",
      "  feedback_df[\"Feedback\"] = feedback_df[\"Feedback\"].apply(remove_html_tags)\n"
     ]
    }
   ],
   "source": [
    "feedback_df[\"Feedback\"] = feedback_df[\"Feedback\"].apply(remove_html_tags)"
   ]
  },
  {
   "cell_type": "code",
   "execution_count": 22,
   "id": "852e5fe8",
   "metadata": {},
   "outputs": [
    {
     "data": {
      "text/html": [
       "<div>\n",
       "<style scoped>\n",
       "    .dataframe tbody tr th:only-of-type {\n",
       "        vertical-align: middle;\n",
       "    }\n",
       "\n",
       "    .dataframe tbody tr th {\n",
       "        vertical-align: top;\n",
       "    }\n",
       "\n",
       "    .dataframe thead th {\n",
       "        text-align: right;\n",
       "    }\n",
       "</style>\n",
       "<table border=\"1\" class=\"dataframe\">\n",
       "  <thead>\n",
       "    <tr style=\"text-align: right;\">\n",
       "      <th></th>\n",
       "      <th>Feedback</th>\n",
       "    </tr>\n",
       "  </thead>\n",
       "  <tbody>\n",
       "    <tr>\n",
       "      <th>0</th>\n",
       "      <td>the course on artificial intelligence was . i ...</td>\n",
       "    </tr>\n",
       "    <tr>\n",
       "      <th>1</th>\n",
       "      <td>why is the quiz not loading??? pls fix it asap!!</td>\n",
       "    </tr>\n",
       "    <tr>\n",
       "      <th>2</th>\n",
       "      <td>love the user interface, but some buttons don'...</td>\n",
       "    </tr>\n",
       "    <tr>\n",
       "      <th>3</th>\n",
       "      <td>very detailed explanations! props to the instr...</td>\n",
       "    </tr>\n",
       "    <tr>\n",
       "      <th>4</th>\n",
       "      <td>video #4 keeps buffering... even tho my net is...</td>\n",
       "    </tr>\n",
       "    <tr>\n",
       "      <th>5</th>\n",
       "      <td>where’s the certificate download option?? coul...</td>\n",
       "    </tr>\n",
       "    <tr>\n",
       "      <th>6</th>\n",
       "      <td>great platform overall, but the search feature...</td>\n",
       "    </tr>\n",
       "    <tr>\n",
       "      <th>7</th>\n",
       "      <td>i’ve emailed support twice about my payment is...</td>\n",
       "    </tr>\n",
       "    <tr>\n",
       "      <th>8</th>\n",
       "      <td>some typos in the python basics module. pls co...</td>\n",
       "    </tr>\n",
       "    <tr>\n",
       "      <th>9</th>\n",
       "      <td>i like the badges system. makes it feel like a...</td>\n",
       "    </tr>\n",
       "    <tr>\n",
       "      <th>10</th>\n",
       "      <td>please add subtitles for non-english speakers.</td>\n",
       "    </tr>\n",
       "    <tr>\n",
       "      <th>11</th>\n",
       "      <td>lesson 7 has a broken video link: watch</td>\n",
       "    </tr>\n",
       "    <tr>\n",
       "      <th>12</th>\n",
       "      <td>too many ads before each video</td>\n",
       "    </tr>\n",
       "    <tr>\n",
       "      <th>13</th>\n",
       "      <td>app crashed 3 times while taking the test!!!</td>\n",
       "    </tr>\n",
       "    <tr>\n",
       "      <th>14</th>\n",
       "      <td>the daily streak system is motivating</td>\n",
       "    </tr>\n",
       "    <tr>\n",
       "      <th>15</th>\n",
       "      <td>would love if you could add dark mode</td>\n",
       "    </tr>\n",
       "    <tr>\n",
       "      <th>16</th>\n",
       "      <td>forum discussions are so helpful. thanks, team!</td>\n",
       "    </tr>\n",
       "    <tr>\n",
       "      <th>17</th>\n",
       "      <td>quiz timer is too short!  barely finished in time</td>\n",
       "    </tr>\n",
       "    <tr>\n",
       "      <th>18</th>\n",
       "      <td>voice of instructor in module 2 is hard to und...</td>\n",
       "    </tr>\n",
       "    <tr>\n",
       "      <th>19</th>\n",
       "      <td>i finally finished my first course. yay!!</td>\n",
       "    </tr>\n",
       "  </tbody>\n",
       "</table>\n",
       "</div>"
      ],
      "text/plain": [
       "                                             Feedback\n",
       "0   the course on artificial intelligence was . i ...\n",
       "1    why is the quiz not loading??? pls fix it asap!!\n",
       "2   love the user interface, but some buttons don'...\n",
       "3   very detailed explanations! props to the instr...\n",
       "4   video #4 keeps buffering... even tho my net is...\n",
       "5   where’s the certificate download option?? coul...\n",
       "6   great platform overall, but the search feature...\n",
       "7   i’ve emailed support twice about my payment is...\n",
       "8   some typos in the python basics module. pls co...\n",
       "9   i like the badges system. makes it feel like a...\n",
       "10     please add subtitles for non-english speakers.\n",
       "11            lesson 7 has a broken video link: watch\n",
       "12                    too many ads before each video \n",
       "13       app crashed 3 times while taking the test!!!\n",
       "14             the daily streak system is motivating \n",
       "15             would love if you could add dark mode \n",
       "16    forum discussions are so helpful. thanks, team!\n",
       "17  quiz timer is too short!  barely finished in time\n",
       "18  voice of instructor in module 2 is hard to und...\n",
       "19         i finally finished my first course. yay!! "
      ]
     },
     "execution_count": 22,
     "metadata": {},
     "output_type": "execute_result"
    }
   ],
   "source": [
    "feedback_df"
   ]
  },
  {
   "cell_type": "markdown",
   "id": "c47b07ae",
   "metadata": {},
   "source": [
    "### 5. Removing any URLs"
   ]
  },
  {
   "cell_type": "code",
   "execution_count": 23,
   "id": "d4b939e8",
   "metadata": {},
   "outputs": [],
   "source": [
    "def remove_urls(text):\n",
    "    url_pattern = re.compile(r'http\\S+|www\\.\\S+')\n",
    "    return url_pattern.sub('', text)"
   ]
  },
  {
   "cell_type": "code",
   "execution_count": 24,
   "id": "69aa8dc8",
   "metadata": {},
   "outputs": [
    {
     "name": "stderr",
     "output_type": "stream",
     "text": [
      "C:\\Users\\Pralo\\AppData\\Local\\Temp\\ipykernel_1544\\700385989.py:1: SettingWithCopyWarning: \n",
      "A value is trying to be set on a copy of a slice from a DataFrame.\n",
      "Try using .loc[row_indexer,col_indexer] = value instead\n",
      "\n",
      "See the caveats in the documentation: https://pandas.pydata.org/pandas-docs/stable/user_guide/indexing.html#returning-a-view-versus-a-copy\n",
      "  feedback_df[\"Feedback\"] = feedback_df[\"Feedback\"].apply(remove_urls)\n"
     ]
    }
   ],
   "source": [
    "feedback_df[\"Feedback\"] = feedback_df[\"Feedback\"].apply(remove_urls)"
   ]
  },
  {
   "cell_type": "code",
   "execution_count": 25,
   "id": "478c6198",
   "metadata": {},
   "outputs": [
    {
     "data": {
      "text/html": [
       "<div>\n",
       "<style scoped>\n",
       "    .dataframe tbody tr th:only-of-type {\n",
       "        vertical-align: middle;\n",
       "    }\n",
       "\n",
       "    .dataframe tbody tr th {\n",
       "        vertical-align: top;\n",
       "    }\n",
       "\n",
       "    .dataframe thead th {\n",
       "        text-align: right;\n",
       "    }\n",
       "</style>\n",
       "<table border=\"1\" class=\"dataframe\">\n",
       "  <thead>\n",
       "    <tr style=\"text-align: right;\">\n",
       "      <th></th>\n",
       "      <th>Feedback</th>\n",
       "    </tr>\n",
       "  </thead>\n",
       "  <tbody>\n",
       "    <tr>\n",
       "      <th>0</th>\n",
       "      <td>the course on artificial intelligence was . i ...</td>\n",
       "    </tr>\n",
       "    <tr>\n",
       "      <th>1</th>\n",
       "      <td>why is the quiz not loading??? pls fix it asap!!</td>\n",
       "    </tr>\n",
       "    <tr>\n",
       "      <th>2</th>\n",
       "      <td>love the user interface, but some buttons don'...</td>\n",
       "    </tr>\n",
       "    <tr>\n",
       "      <th>3</th>\n",
       "      <td>very detailed explanations! props to the instr...</td>\n",
       "    </tr>\n",
       "    <tr>\n",
       "      <th>4</th>\n",
       "      <td>video #4 keeps buffering... even tho my net is...</td>\n",
       "    </tr>\n",
       "    <tr>\n",
       "      <th>5</th>\n",
       "      <td>where’s the certificate download option?? coul...</td>\n",
       "    </tr>\n",
       "    <tr>\n",
       "      <th>6</th>\n",
       "      <td>great platform overall, but the search feature...</td>\n",
       "    </tr>\n",
       "    <tr>\n",
       "      <th>7</th>\n",
       "      <td>i’ve emailed support twice about my payment is...</td>\n",
       "    </tr>\n",
       "    <tr>\n",
       "      <th>8</th>\n",
       "      <td>some typos in the python basics module. pls co...</td>\n",
       "    </tr>\n",
       "    <tr>\n",
       "      <th>9</th>\n",
       "      <td>i like the badges system. makes it feel like a...</td>\n",
       "    </tr>\n",
       "    <tr>\n",
       "      <th>10</th>\n",
       "      <td>please add subtitles for non-english speakers.</td>\n",
       "    </tr>\n",
       "    <tr>\n",
       "      <th>11</th>\n",
       "      <td>lesson 7 has a broken video link: watch</td>\n",
       "    </tr>\n",
       "    <tr>\n",
       "      <th>12</th>\n",
       "      <td>too many ads before each video</td>\n",
       "    </tr>\n",
       "    <tr>\n",
       "      <th>13</th>\n",
       "      <td>app crashed 3 times while taking the test!!!</td>\n",
       "    </tr>\n",
       "    <tr>\n",
       "      <th>14</th>\n",
       "      <td>the daily streak system is motivating</td>\n",
       "    </tr>\n",
       "    <tr>\n",
       "      <th>15</th>\n",
       "      <td>would love if you could add dark mode</td>\n",
       "    </tr>\n",
       "    <tr>\n",
       "      <th>16</th>\n",
       "      <td>forum discussions are so helpful. thanks, team!</td>\n",
       "    </tr>\n",
       "    <tr>\n",
       "      <th>17</th>\n",
       "      <td>quiz timer is too short!  barely finished in time</td>\n",
       "    </tr>\n",
       "    <tr>\n",
       "      <th>18</th>\n",
       "      <td>voice of instructor in module 2 is hard to und...</td>\n",
       "    </tr>\n",
       "    <tr>\n",
       "      <th>19</th>\n",
       "      <td>i finally finished my first course. yay!!</td>\n",
       "    </tr>\n",
       "  </tbody>\n",
       "</table>\n",
       "</div>"
      ],
      "text/plain": [
       "                                             Feedback\n",
       "0   the course on artificial intelligence was . i ...\n",
       "1    why is the quiz not loading??? pls fix it asap!!\n",
       "2   love the user interface, but some buttons don'...\n",
       "3   very detailed explanations! props to the instr...\n",
       "4   video #4 keeps buffering... even tho my net is...\n",
       "5   where’s the certificate download option?? coul...\n",
       "6   great platform overall, but the search feature...\n",
       "7   i’ve emailed support twice about my payment is...\n",
       "8   some typos in the python basics module. pls co...\n",
       "9   i like the badges system. makes it feel like a...\n",
       "10     please add subtitles for non-english speakers.\n",
       "11            lesson 7 has a broken video link: watch\n",
       "12                    too many ads before each video \n",
       "13       app crashed 3 times while taking the test!!!\n",
       "14             the daily streak system is motivating \n",
       "15             would love if you could add dark mode \n",
       "16    forum discussions are so helpful. thanks, team!\n",
       "17  quiz timer is too short!  barely finished in time\n",
       "18  voice of instructor in module 2 is hard to und...\n",
       "19         i finally finished my first course. yay!! "
      ]
     },
     "execution_count": 25,
     "metadata": {},
     "output_type": "execute_result"
    }
   ],
   "source": [
    "feedback_df"
   ]
  },
  {
   "cell_type": "markdown",
   "id": "c25e122e",
   "metadata": {},
   "source": [
    "### 6. Removing any punctuation"
   ]
  },
  {
   "cell_type": "code",
   "execution_count": 27,
   "id": "999525bd",
   "metadata": {},
   "outputs": [],
   "source": [
    "import string"
   ]
  },
  {
   "cell_type": "code",
   "execution_count": 28,
   "id": "e9f55bec",
   "metadata": {},
   "outputs": [],
   "source": [
    "def remove_punctuation(text):\n",
    "    return re.sub(f\"[{re.escape(string.punctuation)}]\", \"\", text)"
   ]
  },
  {
   "cell_type": "code",
   "execution_count": 29,
   "id": "8488d7f5",
   "metadata": {},
   "outputs": [
    {
     "name": "stderr",
     "output_type": "stream",
     "text": [
      "C:\\Users\\Pralo\\AppData\\Local\\Temp\\ipykernel_1544\\14066625.py:1: SettingWithCopyWarning: \n",
      "A value is trying to be set on a copy of a slice from a DataFrame.\n",
      "Try using .loc[row_indexer,col_indexer] = value instead\n",
      "\n",
      "See the caveats in the documentation: https://pandas.pydata.org/pandas-docs/stable/user_guide/indexing.html#returning-a-view-versus-a-copy\n",
      "  feedback_df[\"Feedback\"] = feedback_df[\"Feedback\"].apply(remove_punctuation)\n"
     ]
    }
   ],
   "source": [
    "feedback_df[\"Feedback\"] = feedback_df[\"Feedback\"].apply(remove_punctuation)"
   ]
  },
  {
   "cell_type": "code",
   "execution_count": 37,
   "id": "41b294f8",
   "metadata": {},
   "outputs": [
    {
     "data": {
      "text/html": [
       "<div>\n",
       "<style scoped>\n",
       "    .dataframe tbody tr th:only-of-type {\n",
       "        vertical-align: middle;\n",
       "    }\n",
       "\n",
       "    .dataframe tbody tr th {\n",
       "        vertical-align: top;\n",
       "    }\n",
       "\n",
       "    .dataframe thead th {\n",
       "        text-align: right;\n",
       "    }\n",
       "</style>\n",
       "<table border=\"1\" class=\"dataframe\">\n",
       "  <thead>\n",
       "    <tr style=\"text-align: right;\">\n",
       "      <th></th>\n",
       "      <th>Feedback</th>\n",
       "    </tr>\n",
       "  </thead>\n",
       "  <tbody>\n",
       "    <tr>\n",
       "      <th>19</th>\n",
       "      <td>i finally finished my first course yay</td>\n",
       "    </tr>\n",
       "    <tr>\n",
       "      <th>13</th>\n",
       "      <td>app crashed 3 times while taking the test</td>\n",
       "    </tr>\n",
       "    <tr>\n",
       "      <th>3</th>\n",
       "      <td>very detailed explanations props to the instru...</td>\n",
       "    </tr>\n",
       "    <tr>\n",
       "      <th>2</th>\n",
       "      <td>love the user interface but some buttons dont ...</td>\n",
       "    </tr>\n",
       "    <tr>\n",
       "      <th>16</th>\n",
       "      <td>forum discussions are so helpful thanks team</td>\n",
       "    </tr>\n",
       "  </tbody>\n",
       "</table>\n",
       "</div>"
      ],
      "text/plain": [
       "                                             Feedback\n",
       "19            i finally finished my first course yay \n",
       "13          app crashed 3 times while taking the test\n",
       "3   very detailed explanations props to the instru...\n",
       "2   love the user interface but some buttons dont ...\n",
       "16       forum discussions are so helpful thanks team"
      ]
     },
     "execution_count": 37,
     "metadata": {},
     "output_type": "execute_result"
    }
   ],
   "source": [
    "feedback_df.sample(5)"
   ]
  },
  {
   "cell_type": "markdown",
   "id": "91028248",
   "metadata": {},
   "source": [
    "### 7. Removing stop words"
   ]
  },
  {
   "cell_type": "code",
   "execution_count": 43,
   "id": "5e8facf9",
   "metadata": {},
   "outputs": [
    {
     "name": "stderr",
     "output_type": "stream",
     "text": [
      "[nltk_data] Downloading package stopwords to\n",
      "[nltk_data]     C:\\Users\\Pralo\\AppData\\Roaming\\nltk_data...\n",
      "[nltk_data]   Unzipping corpora\\stopwords.zip.\n",
      "[nltk_data] Downloading package punkt to\n",
      "[nltk_data]     C:\\Users\\Pralo\\AppData\\Roaming\\nltk_data...\n",
      "[nltk_data]   Package punkt is already up-to-date!\n"
     ]
    },
    {
     "data": {
      "text/plain": [
       "True"
      ]
     },
     "execution_count": 43,
     "metadata": {},
     "output_type": "execute_result"
    }
   ],
   "source": [
    "import nltk\n",
    "nltk.download('stopwords')\n",
    "nltk.download('punkt')"
   ]
  },
  {
   "cell_type": "code",
   "execution_count": 45,
   "id": "8652e886",
   "metadata": {},
   "outputs": [],
   "source": [
    "from nltk.corpus import stopwords\n",
    "from nltk.tokenize import word_tokenize\n"
   ]
  },
  {
   "cell_type": "code",
   "execution_count": null,
   "id": "985e220c",
   "metadata": {},
   "outputs": [
    {
     "data": {
      "text/plain": [
       "'course artificial intelligence learned ton'"
      ]
     },
     "execution_count": 47,
     "metadata": {},
     "output_type": "execute_result"
    }
   ],
   "source": [
    "stop_words = set(stopwords.words('english'))\n",
    "feedback_df['Feedback'] = feedback_df['Feedback'].apply(\n",
    "    lambda x: ' '.join([word for word in x.split() if word not in stop_words])\n",
    ")\n"
   ]
  },
  {
   "cell_type": "code",
   "execution_count": null,
   "id": "4ed3c886",
   "metadata": {},
   "outputs": [],
   "source": []
  }
 ],
 "metadata": {
  "kernelspec": {
   "display_name": "Python 3",
   "language": "python",
   "name": "python3"
  },
  "language_info": {
   "codemirror_mode": {
    "name": "ipython",
    "version": 3
   },
   "file_extension": ".py",
   "mimetype": "text/x-python",
   "name": "python",
   "nbconvert_exporter": "python",
   "pygments_lexer": "ipython3",
   "version": "3.11.11"
  }
 },
 "nbformat": 4,
 "nbformat_minor": 5
}
