{
 "cells": [
  {
   "cell_type": "code",
   "execution_count": 2,
   "id": "4fe57eb6",
   "metadata": {},
   "outputs": [],
   "source": [
    "import pandas as pd\n",
    "import numpy as np"
   ]
  },
  {
   "cell_type": "code",
   "execution_count": 3,
   "id": "56746e3e",
   "metadata": {},
   "outputs": [],
   "source": [
    "df = pd.read_csv(\"../Data/test_tweets_anuFYb8.csv\")"
   ]
  },
  {
   "cell_type": "code",
   "execution_count": 4,
   "id": "631e6485",
   "metadata": {},
   "outputs": [
    {
     "name": "stdout",
     "output_type": "stream",
     "text": [
      "<class 'pandas.core.frame.DataFrame'>\n",
      "RangeIndex: 17197 entries, 0 to 17196\n",
      "Data columns (total 2 columns):\n",
      " #   Column  Non-Null Count  Dtype \n",
      "---  ------  --------------  ----- \n",
      " 0   id      17197 non-null  int64 \n",
      " 1   tweet   17197 non-null  object\n",
      "dtypes: int64(1), object(1)\n",
      "memory usage: 268.8+ KB\n"
     ]
    }
   ],
   "source": [
    "df.info()"
   ]
  },
  {
   "cell_type": "code",
   "execution_count": 5,
   "id": "8752f983",
   "metadata": {},
   "outputs": [
    {
     "data": {
      "text/html": [
       "<div>\n",
       "<style scoped>\n",
       "    .dataframe tbody tr th:only-of-type {\n",
       "        vertical-align: middle;\n",
       "    }\n",
       "\n",
       "    .dataframe tbody tr th {\n",
       "        vertical-align: top;\n",
       "    }\n",
       "\n",
       "    .dataframe thead th {\n",
       "        text-align: right;\n",
       "    }\n",
       "</style>\n",
       "<table border=\"1\" class=\"dataframe\">\n",
       "  <thead>\n",
       "    <tr style=\"text-align: right;\">\n",
       "      <th></th>\n",
       "      <th>id</th>\n",
       "      <th>tweet</th>\n",
       "    </tr>\n",
       "  </thead>\n",
       "  <tbody>\n",
       "    <tr>\n",
       "      <th>3278</th>\n",
       "      <td>35241</td>\n",
       "      <td>abiball 2016 ðð»ðð #abiball #abitur...</td>\n",
       "    </tr>\n",
       "    <tr>\n",
       "      <th>14778</th>\n",
       "      <td>46741</td>\n",
       "      <td>looking forward to the @user conference &amp;amp; ...</td>\n",
       "    </tr>\n",
       "    <tr>\n",
       "      <th>13371</th>\n",
       "      <td>45334</td>\n",
       "      <td>mister @user should we #makeitawkward for  and...</td>\n",
       "    </tr>\n",
       "    <tr>\n",
       "      <th>9806</th>\n",
       "      <td>41769</td>\n",
       "      <td>guess it is to much to stop the man/father bas...</td>\n",
       "    </tr>\n",
       "    <tr>\n",
       "      <th>7509</th>\n",
       "      <td>39472</td>\n",
       "      <td>i am so   to watch #mitb (money in the bank) #...</td>\n",
       "    </tr>\n",
       "  </tbody>\n",
       "</table>\n",
       "</div>"
      ],
      "text/plain": [
       "          id                                              tweet\n",
       "3278   35241  abiball 2016 ðð»ðð #abiball #abitur...\n",
       "14778  46741  looking forward to the @user conference &amp; ...\n",
       "13371  45334  mister @user should we #makeitawkward for  and...\n",
       "9806   41769  guess it is to much to stop the man/father bas...\n",
       "7509   39472  i am so   to watch #mitb (money in the bank) #..."
      ]
     },
     "execution_count": 5,
     "metadata": {},
     "output_type": "execute_result"
    }
   ],
   "source": [
    "df.sample(5)"
   ]
  },
  {
   "cell_type": "code",
   "execution_count": 6,
   "id": "5e476eba",
   "metadata": {},
   "outputs": [],
   "source": [
    "tweets_df = df[['tweet']].copy()"
   ]
  },
  {
   "cell_type": "code",
   "execution_count": 7,
   "id": "baf879d2",
   "metadata": {},
   "outputs": [
    {
     "data": {
      "text/html": [
       "<div>\n",
       "<style scoped>\n",
       "    .dataframe tbody tr th:only-of-type {\n",
       "        vertical-align: middle;\n",
       "    }\n",
       "\n",
       "    .dataframe tbody tr th {\n",
       "        vertical-align: top;\n",
       "    }\n",
       "\n",
       "    .dataframe thead th {\n",
       "        text-align: right;\n",
       "    }\n",
       "</style>\n",
       "<table border=\"1\" class=\"dataframe\">\n",
       "  <thead>\n",
       "    <tr style=\"text-align: right;\">\n",
       "      <th></th>\n",
       "      <th>tweet</th>\n",
       "    </tr>\n",
       "  </thead>\n",
       "  <tbody>\n",
       "    <tr>\n",
       "      <th>0</th>\n",
       "      <td>#studiolife #aislife #requires #passion #dedic...</td>\n",
       "    </tr>\n",
       "    <tr>\n",
       "      <th>1</th>\n",
       "      <td>@user #white #supremacists want everyone to s...</td>\n",
       "    </tr>\n",
       "    <tr>\n",
       "      <th>2</th>\n",
       "      <td>safe ways to heal your #acne!!    #altwaystohe...</td>\n",
       "    </tr>\n",
       "    <tr>\n",
       "      <th>3</th>\n",
       "      <td>is the hp and the cursed child book up for res...</td>\n",
       "    </tr>\n",
       "    <tr>\n",
       "      <th>4</th>\n",
       "      <td>3rd #bihday to my amazing, hilarious #nephew...</td>\n",
       "    </tr>\n",
       "  </tbody>\n",
       "</table>\n",
       "</div>"
      ],
      "text/plain": [
       "                                               tweet\n",
       "0  #studiolife #aislife #requires #passion #dedic...\n",
       "1   @user #white #supremacists want everyone to s...\n",
       "2  safe ways to heal your #acne!!    #altwaystohe...\n",
       "3  is the hp and the cursed child book up for res...\n",
       "4    3rd #bihday to my amazing, hilarious #nephew..."
      ]
     },
     "execution_count": 7,
     "metadata": {},
     "output_type": "execute_result"
    }
   ],
   "source": [
    "tweets_df.head(5)"
   ]
  },
  {
   "cell_type": "code",
   "execution_count": 8,
   "id": "b6ceb714",
   "metadata": {},
   "outputs": [],
   "source": [
    "import re\n",
    "\n",
    "def clean_tweet(text):\n",
    "    text = text.lower()\n",
    "    text = re.sub(r'http\\S+', '', text)         # Remove URLs\n",
    "    text = re.sub(r'@\\w+', '', text)            # Remove @mentions\n",
    "    text = re.sub(r'#', '', text)               # Remove hashtag symbol\n",
    "    text = re.sub(r'[^\\w\\s]', '', text)         # Remove punctuation\n",
    "    text = re.sub(r'\\s+', ' ', text).strip()    # Normalize whitespace\n",
    "    return text\n"
   ]
  },
  {
   "cell_type": "code",
   "execution_count": 9,
   "id": "441f4beb",
   "metadata": {},
   "outputs": [],
   "source": [
    "tweets_df['tweet'] = tweets_df['tweet'].apply(clean_tweet)"
   ]
  },
  {
   "cell_type": "code",
   "execution_count": 10,
   "id": "8548789e",
   "metadata": {},
   "outputs": [
    {
     "data": {
      "text/plain": [
       "'feeling like a mermaid ð hairflip neverready formal wedding gown dresses mermaid â'"
      ]
     },
     "execution_count": 10,
     "metadata": {},
     "output_type": "execute_result"
    }
   ],
   "source": [
    "tweets_df['tweet'][17193]"
   ]
  },
  {
   "cell_type": "markdown",
   "id": "ada7191d",
   "metadata": {},
   "source": [
    "### Normalize Unicode (fix weird characters like ð, â)"
   ]
  },
  {
   "cell_type": "code",
   "execution_count": 11,
   "id": "72e3e668",
   "metadata": {},
   "outputs": [],
   "source": [
    "import unicodedata\n",
    "\n",
    "def normalize_unicode(text):\n",
    "    return unicodedata.normalize('NFKD', text).encode('ascii', 'ignore').decode('utf-8')"
   ]
  },
  {
   "cell_type": "code",
   "execution_count": 12,
   "id": "1e13f2e7",
   "metadata": {},
   "outputs": [],
   "source": [
    "tweets_df['tweet'] = tweets_df['tweet'].apply(normalize_unicode)"
   ]
  },
  {
   "cell_type": "code",
   "execution_count": 13,
   "id": "d4e3a625",
   "metadata": {},
   "outputs": [
    {
     "data": {
      "text/html": [
       "<div>\n",
       "<style scoped>\n",
       "    .dataframe tbody tr th:only-of-type {\n",
       "        vertical-align: middle;\n",
       "    }\n",
       "\n",
       "    .dataframe tbody tr th {\n",
       "        vertical-align: top;\n",
       "    }\n",
       "\n",
       "    .dataframe thead th {\n",
       "        text-align: right;\n",
       "    }\n",
       "</style>\n",
       "<table border=\"1\" class=\"dataframe\">\n",
       "  <thead>\n",
       "    <tr style=\"text-align: right;\">\n",
       "      <th></th>\n",
       "      <th>tweet</th>\n",
       "    </tr>\n",
       "  </thead>\n",
       "  <tbody>\n",
       "    <tr>\n",
       "      <th>10832</th>\n",
       "      <td>will b getting my license yayayayayayay 18</td>\n",
       "    </tr>\n",
       "    <tr>\n",
       "      <th>5953</th>\n",
       "      <td>best essentialoils for anxiety healthy peace a...</td>\n",
       "    </tr>\n",
       "    <tr>\n",
       "      <th>7283</th>\n",
       "      <td>isle of wight is creeping up on us schooljourn...</td>\n",
       "    </tr>\n",
       "    <tr>\n",
       "      <th>1002</th>\n",
       "      <td>find a workout routine that gets you this amp ...</td>\n",
       "    </tr>\n",
       "    <tr>\n",
       "      <th>7728</th>\n",
       "      <td>i know goner is a a song but its actually my f...</td>\n",
       "    </tr>\n",
       "    <tr>\n",
       "      <th>9217</th>\n",
       "      <td>use the power of your mind to heal your body a...</td>\n",
       "    </tr>\n",
       "    <tr>\n",
       "      <th>4136</th>\n",
       "      <td>the winery in jasper georgia goodhealth goodti...</td>\n",
       "    </tr>\n",
       "    <tr>\n",
       "      <th>15065</th>\n",
       "      <td>this mornings happy socks its the only way to ...</td>\n",
       "    </tr>\n",
       "    <tr>\n",
       "      <th>8164</th>\n",
       "      <td>july 23 i see mr luke bryan lovehimforreal luk...</td>\n",
       "    </tr>\n",
       "    <tr>\n",
       "      <th>6216</th>\n",
       "      <td>image via we hea it restinpeace rip triste</td>\n",
       "    </tr>\n",
       "  </tbody>\n",
       "</table>\n",
       "</div>"
      ],
      "text/plain": [
       "                                                   tweet\n",
       "10832         will b getting my license yayayayayayay 18\n",
       "5953   best essentialoils for anxiety healthy peace a...\n",
       "7283   isle of wight is creeping up on us schooljourn...\n",
       "1002   find a workout routine that gets you this amp ...\n",
       "7728   i know goner is a a song but its actually my f...\n",
       "9217   use the power of your mind to heal your body a...\n",
       "4136   the winery in jasper georgia goodhealth goodti...\n",
       "15065  this mornings happy socks its the only way to ...\n",
       "8164   july 23 i see mr luke bryan lovehimforreal luk...\n",
       "6216          image via we hea it restinpeace rip triste"
      ]
     },
     "execution_count": 13,
     "metadata": {},
     "output_type": "execute_result"
    }
   ],
   "source": [
    "tweets_df.sample(10)"
   ]
  },
  {
   "cell_type": "markdown",
   "id": "31085a41",
   "metadata": {},
   "source": [
    "### Correcting space problem"
   ]
  },
  {
   "cell_type": "code",
   "execution_count": 27,
   "id": "417e6b81",
   "metadata": {},
   "outputs": [
    {
     "name": "stdout",
     "output_type": "stream",
     "text": [
      "Requirement already satisfied: wordninja in c:\\users\\pralo\\machine-learning-projects\\movie-recommender-system\\.conda\\lib\\site-packages (2.0.0)\n",
      "Note: you may need to restart the kernel to use updated packages.\n"
     ]
    }
   ],
   "source": [
    "%pip install wordninja"
   ]
  },
  {
   "cell_type": "code",
   "execution_count": 28,
   "id": "ab0e6451",
   "metadata": {},
   "outputs": [],
   "source": [
    "import wordninja"
   ]
  },
  {
   "cell_type": "code",
   "execution_count": 29,
   "id": "c48af8a4",
   "metadata": {},
   "outputs": [],
   "source": [
    "def fix_spacing(text):\n",
    "    return ' '.join(wordninja.split(text))"
   ]
  },
  {
   "cell_type": "code",
   "execution_count": 30,
   "id": "5e9a0169",
   "metadata": {},
   "outputs": [],
   "source": [
    "tweets_df['tweet'] = tweets_df['tweet'].apply(fix_spacing)"
   ]
  },
  {
   "cell_type": "markdown",
   "id": "c3e4c2ac",
   "metadata": {},
   "source": [
    "### Removing stop words"
   ]
  },
  {
   "cell_type": "code",
   "execution_count": 31,
   "id": "ece96170",
   "metadata": {},
   "outputs": [],
   "source": [
    "import nltk\n",
    "from nltk.corpus import stopwords\n",
    "stop_words = set(stopwords.words('english'))"
   ]
  },
  {
   "cell_type": "code",
   "execution_count": 33,
   "id": "b6e9ea97",
   "metadata": {},
   "outputs": [],
   "source": [
    "tweets_df['tweet'] = tweets_df['tweet'].apply(lambda x: ' '.join([word for word in nltk.word_tokenize(x) if word not in stop_words]))"
   ]
  },
  {
   "cell_type": "code",
   "execution_count": 35,
   "id": "3439a6c7",
   "metadata": {},
   "outputs": [
    {
     "data": {
      "text/html": [
       "<div>\n",
       "<style scoped>\n",
       "    .dataframe tbody tr th:only-of-type {\n",
       "        vertical-align: middle;\n",
       "    }\n",
       "\n",
       "    .dataframe tbody tr th {\n",
       "        vertical-align: top;\n",
       "    }\n",
       "\n",
       "    .dataframe thead th {\n",
       "        text-align: right;\n",
       "    }\n",
       "</style>\n",
       "<table border=\"1\" class=\"dataframe\">\n",
       "  <thead>\n",
       "    <tr style=\"text-align: right;\">\n",
       "      <th></th>\n",
       "      <th>tweet</th>\n",
       "    </tr>\n",
       "  </thead>\n",
       "  <tbody>\n",
       "    <tr>\n",
       "      <th>8847</th>\n",
       "      <td>love saturday feeling weekend love play guitar</td>\n",
       "    </tr>\n",
       "    <tr>\n",
       "      <th>15655</th>\n",
       "      <td>happy wednesday hump day wednesday midweek day...</td>\n",
       "    </tr>\n",
       "    <tr>\n",
       "      <th>3515</th>\n",
       "      <td>petal polar bear climb racing angry polar bear...</td>\n",
       "    </tr>\n",
       "    <tr>\n",
       "      <th>16201</th>\n",
       "      <td>late ff game dev died ev indie game dev squad</td>\n",
       "    </tr>\n",
       "    <tr>\n",
       "      <th>13888</th>\n",
       "      <td>offered unconditional offer fda business manag...</td>\n",
       "    </tr>\n",
       "  </tbody>\n",
       "</table>\n",
       "</div>"
      ],
      "text/plain": [
       "                                                   tweet\n",
       "8847      love saturday feeling weekend love play guitar\n",
       "15655  happy wednesday hump day wednesday midweek day...\n",
       "3515   petal polar bear climb racing angry polar bear...\n",
       "16201      late ff game dev died ev indie game dev squad\n",
       "13888  offered unconditional offer fda business manag..."
      ]
     },
     "execution_count": 35,
     "metadata": {},
     "output_type": "execute_result"
    }
   ],
   "source": [
    "tweets_df.sample(5)"
   ]
  },
  {
   "cell_type": "markdown",
   "id": "83af5c6d",
   "metadata": {},
   "source": [
    "### Expanding slangs"
   ]
  },
  {
   "cell_type": "code",
   "execution_count": 36,
   "id": "5191d6c3",
   "metadata": {},
   "outputs": [],
   "source": [
    "slang_dict = {\n",
    "    \"u\": \"you\",\n",
    "    \"ur\": \"your\",\n",
    "    \"bc\": \"because\",\n",
    "    \"b4\": \"before\",\n",
    "    \"idk\": \"i don't know\",\n",
    "    \"lol\": \"laughing out loud\",\n",
    "    \"omg\": \"oh my god\",\n",
    "    \"btw\": \"by the way\",\n",
    "    \"gr8\": \"great\",\n",
    "    \"pls\": \"please\",\n",
    "    \"thx\": \"thanks\",\n",
    "    \"im\": \"i am\",\n",
    "    \"dont\": \"do not\",\n",
    "    \"wanna\": \"want to\",\n",
    "    \"gonna\": \"going to\"\n",
    "}"
   ]
  },
  {
   "cell_type": "code",
   "execution_count": 39,
   "id": "baf2168e",
   "metadata": {},
   "outputs": [],
   "source": [
    "def expand_slang(text):\n",
    "    words = text.split()\n",
    "    expanded_words = []\n",
    "\n",
    "    for word in words:\n",
    "        if word in slang_dict:\n",
    "            expanded_words.append(slang_dict[word])\n",
    "        else:\n",
    "            expanded_words.append(word)\n",
    "    \n",
    "    return ' '.join(expanded_words)"
   ]
  },
  {
   "cell_type": "code",
   "execution_count": 40,
   "id": "73bf18b2",
   "metadata": {},
   "outputs": [
    {
     "data": {
      "text/plain": [
       "0        studio life life requires passion dedication w...\n",
       "1        white supremacists want everyone see new birds...\n",
       "2        safe ways heal acne alt ways heal healthy healing\n",
       "3        hp cursed child book reservations already yes ...\n",
       "4        3 rd bih day amazing hilarious nephew eli ah m...\n",
       "                               ...                        \n",
       "17192    thought factory left right polarisation trump ...\n",
       "17193    feeling like mermaid hair flip never ready for...\n",
       "17194    hillary campaigned today ohio oh my god amp us...\n",
       "17195    happy work conference right mindset leads cult...\n",
       "17196    song glad free download shoe gaze new music ne...\n",
       "Name: tweet, Length: 17197, dtype: object"
      ]
     },
     "execution_count": 40,
     "metadata": {},
     "output_type": "execute_result"
    }
   ],
   "source": [
    "tweets_df['tweet'].apply(expand_slang)"
   ]
  }
 ],
 "metadata": {
  "kernelspec": {
   "display_name": "Python 3",
   "language": "python",
   "name": "python3"
  },
  "language_info": {
   "codemirror_mode": {
    "name": "ipython",
    "version": 3
   },
   "file_extension": ".py",
   "mimetype": "text/x-python",
   "name": "python",
   "nbconvert_exporter": "python",
   "pygments_lexer": "ipython3",
   "version": "3.11.11"
  }
 },
 "nbformat": 4,
 "nbformat_minor": 5
}
