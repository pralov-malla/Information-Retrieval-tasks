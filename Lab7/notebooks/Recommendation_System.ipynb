{
 "cells": [
  {
   "cell_type": "markdown",
   "id": "45a1adfd",
   "metadata": {},
   "source": [
    "### Recommendation System"
   ]
  },
  {
   "cell_type": "code",
   "execution_count": 9,
   "id": "eeae7316",
   "metadata": {},
   "outputs": [],
   "source": [
    "import math\n",
    "\n",
    "# Content-based: Books dataset\n",
    "books = [\n",
    "    {\"title\": \"Pride and Prejudice\", \"genre\": \"Romance\", \"author\": \"Austen\"},\n",
    "    {\"title\": \"Sense and Sensibility\", \"genre\": \"Romance\", \"author\": \"Austen\"},\n",
    "    {\"title\": \"The Da Vinci Code\", \"genre\": \"Thriller\", \"author\": \"Brown\"},\n",
    "    {\"title\": \"Angels and Demons\", \"genre\": \"Thriller\", \"author\": \"Brown\"},\n",
    "    {\"title\": \"The Shining\", \"genre\": \"Horror\", \"author\": \"King\"}\n",
    "]\n",
    "\n",
    "# Collaborative filtering: Movies ratings dataset\n",
    "user_ratings = {\n",
    "    \"Alice\": {\"Movie1\": 5, \"Movie2\": 3, \"Movie3\": 4},\n",
    "    \"Bob\": {\"Movie1\": 4, \"Movie2\": 5, \"Movie3\": 2},\n",
    "    \"Carol\": {\"Movie2\": 4, \"Movie3\": 5, \"Movie4\": 3},\n",
    "    \"Dave\": {\"Movie1\": 2, \"Movie3\": 5, \"Movie4\": 4}\n",
    "}"
   ]
  },
  {
   "cell_type": "markdown",
   "id": "f5ac6eea",
   "metadata": {},
   "source": [
    "#### Content-Based Recommendation(Books)"
   ]
  },
  {
   "cell_type": "code",
   "execution_count": 10,
   "id": "daeb42ff",
   "metadata": {},
   "outputs": [
    {
     "name": "stdout",
     "output_type": "stream",
     "text": [
      "Content-based recommendations for 'Pride and Prejudice': ['Sense and Sensibility', 'The Shining']\n",
      "Content-based recommendations for 'The Da Vinci Code': ['Angels and Demons', 'The Shining']\n"
     ]
    }
   ],
   "source": [
    "# Feature vector: genre + author\n",
    "def book_vector(book):\n",
    "    return [book[\"genre\"], book[\"author\"]]\n",
    "\n",
    "def cosine_similarity_features(f1, f2):\n",
    "    all_features = list(set(f1 + f2))\n",
    "    vec1 = [1 if feat in f1 else 0 for feat in all_features]\n",
    "    vec2 = [1 if feat in f2 else 0 for feat in all_features]\n",
    "    \n",
    "    dot = sum(a*b for a,b in zip(vec1, vec2))\n",
    "    mag1 = math.sqrt(sum(a*a for a in vec1))\n",
    "    mag2 = math.sqrt(sum(b*b for b in vec2))\n",
    "    if mag1==0 or mag2==0:\n",
    "        return 0\n",
    "    return dot / (mag1*mag2)\n",
    "\n",
    "def recommend_books(target_title, top_n=2):\n",
    "    target_book = next(book for book in books if book[\"title\"] == target_title)\n",
    "    sims = []\n",
    "    for book in books:\n",
    "        if book[\"title\"] == target_title:\n",
    "            continue\n",
    "        sim = cosine_similarity_features(book_vector(target_book), book_vector(book))\n",
    "        sims.append((sim, book[\"title\"]))\n",
    "    sims.sort(reverse=True)\n",
    "    return [title for _, title in sims[:top_n]]\n",
    "\n",
    "print(\"Content-based recommendations for 'Pride and Prejudice':\", recommend_books(\"Pride and Prejudice\"))\n",
    "print(\"Content-based recommendations for 'The Da Vinci Code':\", recommend_books(\"The Da Vinci Code\"))\n"
   ]
  },
  {
   "cell_type": "markdown",
   "id": "61cdcf1a",
   "metadata": {},
   "source": [
    "#### Collaborative Filtering(Movies)"
   ]
  },
  {
   "cell_type": "code",
   "execution_count": 12,
   "id": "93051d2f",
   "metadata": {},
   "outputs": [
    {
     "name": "stdout",
     "output_type": "stream",
     "text": [
      "Collaborative filtering recommendations for Alice: ['Movie4']\n",
      "Collaborative filtering recommendations for Carol: ['Movie1']\n"
     ]
    }
   ],
   "source": [
    "# Cosine similarity between users\n",
    "def cosine_similarity_users(u1, u2):\n",
    "    common_movies = set(u1.keys()) & set(u2.keys())\n",
    "    if not common_movies:\n",
    "        return 0\n",
    "    vec1 = [u1[m] for m in common_movies]\n",
    "    vec2 = [u2[m] for m in common_movies]\n",
    "    dot = sum(a*b for a,b in zip(vec1, vec2))\n",
    "    mag1 = math.sqrt(sum(a*a for a in vec1))\n",
    "    mag2 = math.sqrt(sum(b*b for b in vec2))\n",
    "    if mag1==0 or mag2==0:\n",
    "        return 0\n",
    "    return dot / (mag1*mag2)\n",
    "\n",
    "# Predict rating for a user and movie\n",
    "def predict_rating(user, movie, k=2):\n",
    "    sims = []\n",
    "    for other_user, ratings in user_ratings.items():\n",
    "        if other_user == user or movie not in ratings:\n",
    "            continue\n",
    "        sim = cosine_similarity_users(user_ratings[user], ratings)\n",
    "        sims.append((sim, ratings[movie]))\n",
    "    sims.sort(reverse=True)\n",
    "    top_k = sims[:k]\n",
    "    if not top_k:\n",
    "        return None\n",
    "    numerator = sum(sim*rating for sim,rating in top_k)\n",
    "    denominator = sum(sim for sim,_ in top_k)\n",
    "    return numerator/denominator if denominator != 0 else None\n",
    "\n",
    "def recommend_movies(user, top_n=2):\n",
    "    all_movies = set(m for r in user_ratings.values() for m in r)\n",
    "    unrated = [m for m in all_movies if m not in user_ratings[user]]\n",
    "    predictions = [(predict_rating(user, m), m) for m in unrated]\n",
    "    predictions = [(p,m) for p,m in predictions if p is not None]\n",
    "    predictions.sort(reverse=True)\n",
    "    return [m for _, m in predictions[:top_n]]\n",
    "\n",
    "print(\"Collaborative filtering recommendations for Alice:\", recommend_movies(\"Alice\"))\n",
    "print(\"Collaborative filtering recommendations for Carol:\", recommend_movies(\"Carol\"))\n"
   ]
  }
 ],
 "metadata": {
  "kernelspec": {
   "display_name": "myenv",
   "language": "python",
   "name": "python3"
  },
  "language_info": {
   "codemirror_mode": {
    "name": "ipython",
    "version": 3
   },
   "file_extension": ".py",
   "mimetype": "text/x-python",
   "name": "python",
   "nbconvert_exporter": "python",
   "pygments_lexer": "ipython3",
   "version": "3.13.2"
  }
 },
 "nbformat": 4,
 "nbformat_minor": 5
}
