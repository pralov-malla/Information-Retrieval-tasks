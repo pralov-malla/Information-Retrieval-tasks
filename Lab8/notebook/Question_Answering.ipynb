{
 "cells": [
  {
   "cell_type": "markdown",
   "id": "cb84f11e",
   "metadata": {},
   "source": [
    "### Question Answering"
   ]
  },
  {
   "cell_type": "code",
   "execution_count": 1,
   "id": "a801099e",
   "metadata": {},
   "outputs": [],
   "source": [
    "import math\n",
    "from collections import Counter\n",
    "\n",
    "# Knowledge base documents\n",
    "documents = [\n",
    "    \"Python is a programming language used for AI and web development.\",\n",
    "    \"The capital of France is Paris.\",\n",
    "    \"The Great Wall of China is one of the Seven Wonders of the World.\",\n",
    "    \"Machine learning is a subset of artificial intelligence.\",\n",
    "    \"The Sun rises in the east and sets in the west.\"\n",
    "]\n"
   ]
  },
  {
   "cell_type": "code",
   "execution_count": 2,
   "id": "d7b6af3a",
   "metadata": {},
   "outputs": [],
   "source": [
    "def tokenize(text):\n",
    "    return text.lower().split()\n",
    "\n",
    "def tf_vector(text):\n",
    "    words = tokenize(text)\n",
    "    return Counter(words)\n",
    "\n",
    "# Vectorizing all documents\n",
    "doc_vectors = [tf_vector(doc) for doc in documents]"
   ]
  },
  {
   "cell_type": "code",
   "execution_count": 4,
   "id": "f9b10587",
   "metadata": {},
   "outputs": [],
   "source": [
    "def cosine_similarity(vec1, vec2):\n",
    "    all_words = set(vec1) | set(vec2)\n",
    "    dot = sum(vec1.get(w,0) * vec2.get(w,0) for w in all_words)\n",
    "    mag1 = math.sqrt(sum(v**2 for v in vec1.values()))\n",
    "    mag2 = math.sqrt(sum(v**2 for v in vec2.values()))\n",
    "    if mag1==0 or mag2==0:\n",
    "        return 0\n",
    "    return dot / (mag1*mag2)"
   ]
  },
  {
   "cell_type": "markdown",
   "id": "7cdf5fb4",
   "metadata": {},
   "source": [
    "#### Similarity Based Retrieval"
   ]
  },
  {
   "cell_type": "code",
   "execution_count": 5,
   "id": "f90e9590",
   "metadata": {},
   "outputs": [],
   "source": [
    "def retrieve_most_similar(query, top_n=1):\n",
    "    query_vec = tf_vector(query)\n",
    "    sims = [(cosine_similarity(query_vec, doc_vec), doc) \n",
    "            for doc_vec, doc in zip(doc_vectors, documents)]\n",
    "    sims.sort(reverse=True)\n",
    "    return [doc for _, doc in sims[:top_n]]"
   ]
  },
  {
   "cell_type": "markdown",
   "id": "eca54e5a",
   "metadata": {},
   "source": [
    "#### Conditional Answering"
   ]
  },
  {
   "cell_type": "code",
   "execution_count": 8,
   "id": "48f83f26",
   "metadata": {},
   "outputs": [],
   "source": [
    "def answer_question(query):\n",
    "    relevant_docs = retrieve_most_similar(query, top_n=1)\n",
    "    if \"capital\" in query.lower():\n",
    "        return relevant_docs[0]\n",
    "    elif \"python\" in query.lower() or \"programming\" in query.lower():\n",
    "        return relevant_docs[0]\n",
    "    elif \"sun\" in query.lower():\n",
    "        return relevant_docs[0]\n",
    "    else:\n",
    "        return relevant_docs[0]"
   ]
  },
  {
   "cell_type": "code",
   "execution_count": 9,
   "id": "f20c16e7",
   "metadata": {},
   "outputs": [
    {
     "name": "stdout",
     "output_type": "stream",
     "text": [
      "Q: What is the capital of France?\n",
      "A: The capital of France is Paris.\n",
      "\n",
      "Q: Tell me about Python programming.\n",
      "A: Python is a programming language used for AI and web development.\n",
      "\n",
      "Q: Where does the Sun rise?\n",
      "A: The Sun rises in the east and sets in the west.\n",
      "\n",
      "Q: Explain machine learning.\n",
      "A: Machine learning is a subset of artificial intelligence.\n",
      "\n"
     ]
    }
   ],
   "source": [
    "questions = [\n",
    "    \"What is the capital of France?\",\n",
    "    \"Tell me about Python programming.\",\n",
    "    \"Where does the Sun rise?\",\n",
    "    \"Explain machine learning.\"\n",
    "]\n",
    "\n",
    "for q in questions:\n",
    "    print(f\"Q: {q}\")\n",
    "    print(\"A:\", answer_question(q))\n",
    "    print()"
   ]
  }
 ],
 "metadata": {
  "kernelspec": {
   "display_name": "myenv",
   "language": "python",
   "name": "python3"
  },
  "language_info": {
   "codemirror_mode": {
    "name": "ipython",
    "version": 3
   },
   "file_extension": ".py",
   "mimetype": "text/x-python",
   "name": "python",
   "nbconvert_exporter": "python",
   "pygments_lexer": "ipython3",
   "version": "3.13.2"
  }
 },
 "nbformat": 4,
 "nbformat_minor": 5
}
