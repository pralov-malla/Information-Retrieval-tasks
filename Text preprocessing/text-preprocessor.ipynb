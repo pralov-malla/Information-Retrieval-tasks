{
 "cells": [
  {
   "cell_type": "markdown",
   "id": "b7713f61",
   "metadata": {},
   "source": [
    "## Creating Dataframe from dictionary"
   ]
  },
  {
   "cell_type": "code",
   "execution_count": 3,
   "id": "5f288111",
   "metadata": {},
   "outputs": [],
   "source": [
    "import pandas as pd"
   ]
  },
  {
   "cell_type": "code",
   "execution_count": 4,
   "id": "3d1aa9f2",
   "metadata": {},
   "outputs": [],
   "source": [
    "data = {\n",
    "    \"Customer Name\": [\n",
    "        \"Pralov\", \"Abhishek\", \"Swoyesh\", \"Aakash\", \"Swoyesh\", \"Anika\", \"Steve\", \"Fatima\", \"Nikhil\", \"Jasmine\",\n",
    "        \"Omar\", \"Laxmi\", \"Ben\", \"Mina\", \"Raj\", \"Sonia\", \"Alex\", \"Kabir\", \"Priya\", \"Zara\"\n",
    "    ],\n",
    "    \"Feedback\": [\n",
    "        \"The course on AI was 🔥🔥. I learned a ton!!\",\n",
    "        \"why is the quiz not loading??? pls fix it asap!!\",\n",
    "        \"Love the UI, but some buttons <i>don't respond</i> on mobile.\",\n",
    "        \"Very detailed explanations! Props to the instructors 🙏\",\n",
    "        \"video #4 keeps buffering... even tho my net is fine :(\",\n",
    "        \"Where’s the certificate download option?? couldn’t find it!\",\n",
    "        \"Great platform overall, but the search feature sux...\",\n",
    "        \"I’ve emailed support twice about my payment issue. No reply.\",\n",
    "        \"some typos in the Python basics module. pls correct 🙃\",\n",
    "        \"I like the badges system. Makes it feel like a game 🎮\",\n",
    "        \"Please add subtitles for non-English speakers.\",\n",
    "        \"Lesson 7 has a broken video link: <a href='http://vidhost.com/404'>Watch</a>\",\n",
    "        \"Too many ads before each video 😤\",\n",
    "        \"App crashed 3 times while taking the test!!!\",\n",
    "        \"The daily streak system is motivating 💪\",\n",
    "        \"Would love if you could add dark mode 🌙\",\n",
    "        \"Forum discussions are so helpful. Thanks, team!\",\n",
    "        \"Quiz timer is too short! 😓 barely finished in time\",\n",
    "        \"Voice of instructor in module 2 is hard to understand.\",\n",
    "        \"I finally finished my first course. Yay!! 🎉\"\n",
    "    ]\n",
    "}\n"
   ]
  },
  {
   "cell_type": "code",
   "execution_count": 5,
   "id": "ce18d45f",
   "metadata": {},
   "outputs": [],
   "source": [
    "df = pd.DataFrame(data)"
   ]
  },
  {
   "cell_type": "code",
   "execution_count": 6,
   "id": "df9173c3",
   "metadata": {},
   "outputs": [
    {
     "data": {
      "text/html": [
       "<div>\n",
       "<style scoped>\n",
       "    .dataframe tbody tr th:only-of-type {\n",
       "        vertical-align: middle;\n",
       "    }\n",
       "\n",
       "    .dataframe tbody tr th {\n",
       "        vertical-align: top;\n",
       "    }\n",
       "\n",
       "    .dataframe thead th {\n",
       "        text-align: right;\n",
       "    }\n",
       "</style>\n",
       "<table border=\"1\" class=\"dataframe\">\n",
       "  <thead>\n",
       "    <tr style=\"text-align: right;\">\n",
       "      <th></th>\n",
       "      <th>Customer Name</th>\n",
       "      <th>Feedback</th>\n",
       "    </tr>\n",
       "  </thead>\n",
       "  <tbody>\n",
       "    <tr>\n",
       "      <th>0</th>\n",
       "      <td>Pralov</td>\n",
       "      <td>The course on AI was 🔥🔥. I learned a ton!!</td>\n",
       "    </tr>\n",
       "    <tr>\n",
       "      <th>1</th>\n",
       "      <td>Abhishek</td>\n",
       "      <td>why is the quiz not loading??? pls fix it asap!!</td>\n",
       "    </tr>\n",
       "    <tr>\n",
       "      <th>2</th>\n",
       "      <td>Swoyesh</td>\n",
       "      <td>Love the UI, but some buttons &lt;i&gt;don't respond...</td>\n",
       "    </tr>\n",
       "    <tr>\n",
       "      <th>3</th>\n",
       "      <td>Aakash</td>\n",
       "      <td>Very detailed explanations! Props to the instr...</td>\n",
       "    </tr>\n",
       "    <tr>\n",
       "      <th>4</th>\n",
       "      <td>Swoyesh</td>\n",
       "      <td>video #4 keeps buffering... even tho my net is...</td>\n",
       "    </tr>\n",
       "  </tbody>\n",
       "</table>\n",
       "</div>"
      ],
      "text/plain": [
       "  Customer Name                                           Feedback\n",
       "0        Pralov         The course on AI was 🔥🔥. I learned a ton!!\n",
       "1      Abhishek   why is the quiz not loading??? pls fix it asap!!\n",
       "2       Swoyesh  Love the UI, but some buttons <i>don't respond...\n",
       "3        Aakash  Very detailed explanations! Props to the instr...\n",
       "4       Swoyesh  video #4 keeps buffering... even tho my net is..."
      ]
     },
     "execution_count": 6,
     "metadata": {},
     "output_type": "execute_result"
    }
   ],
   "source": [
    "df.head(5)"
   ]
  }
 ],
 "metadata": {
  "kernelspec": {
   "display_name": "Python 3",
   "language": "python",
   "name": "python3"
  },
  "language_info": {
   "codemirror_mode": {
    "name": "ipython",
    "version": 3
   },
   "file_extension": ".py",
   "mimetype": "text/x-python",
   "name": "python",
   "nbconvert_exporter": "python",
   "pygments_lexer": "ipython3",
   "version": "3.11.11"
  }
 },
 "nbformat": 4,
 "nbformat_minor": 5
}
