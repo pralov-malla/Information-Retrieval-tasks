{
 "cells": [
  {
   "cell_type": "markdown",
   "id": "abc084a5",
   "metadata": {},
   "source": [
    "## Evaluation of IR"
   ]
  },
  {
   "cell_type": "code",
   "execution_count": 1,
   "id": "e8a4647d",
   "metadata": {},
   "outputs": [],
   "source": [
    "retrieved_docs = [1, 2, 3, 5, 7]\n",
    "relevant_docs = [2, 3, 4, 7, 8]"
   ]
  },
  {
   "cell_type": "code",
   "execution_count": 3,
   "id": "57152d85",
   "metadata": {},
   "outputs": [],
   "source": [
    "true_positives = len(retrieved_set & relevant_set)"
   ]
  },
  {
   "cell_type": "code",
   "execution_count": 4,
   "id": "7e305d8f",
   "metadata": {},
   "outputs": [],
   "source": [
    "def evaluate(retrieved, relevant):\n",
    "    retrieved_set = set(retrieved)\n",
    "    relevant_set = set(relevant)\n",
    "    \n",
    "    true_pos  = len(retrieved_set & relevant_set)     \n",
    "    false_pos = len(retrieved_set - relevant_set)      \n",
    "    false_neg = len(relevant_set - retrieved_set)     \n",
    "    \n",
    "    # Precision = TP / (TP + FP)\n",
    "    precision = true_pos / (true_pos + false_pos) if (true_pos + false_pos) > 0 else 0\n",
    "    \n",
    "    # Recall = TP / (TP + FN)\n",
    "    recall = true_pos / (true_pos + false_neg) if (true_pos + false_neg) > 0 else 0\n",
    "    \n",
    "    # F1 = 2 * (P * R) / (P + R)\n",
    "    f1 = (2 * precision * recall / (precision + recall)) if (precision + recall) > 0 else 0\n",
    "    \n",
    "    return precision, recall, f1"
   ]
  },
  {
   "cell_type": "code",
   "execution_count": null,
   "id": "b4cda604",
   "metadata": {},
   "outputs": [],
   "source": [
    "p, r, f1 = evaluate(retrieved_docs, relevant_docs)"
   ]
  },
  {
   "cell_type": "code",
   "execution_count": 6,
   "id": "e469c6f5",
   "metadata": {},
   "outputs": [
    {
     "name": "stdout",
     "output_type": "stream",
     "text": [
      "Retrieved Docs: [1, 2, 3, 5, 7]\n",
      "Relevant Docs : [2, 3, 4, 7, 8]\n",
      "Precision = 0.60\n",
      "Recall    = 0.60\n",
      "F1-score  = 0.60\n"
     ]
    }
   ],
   "source": [
    "print(\"Retrieved Docs:\", retrieved_docs)\n",
    "print(\"Relevant Docs :\", relevant_docs)\n",
    "print(f\"Precision = {p:.2f}\")\n",
    "print(f\"Recall    = {r:.2f}\")\n",
    "print(f\"F1-score  = {f1:.2f}\")"
   ]
  }
 ],
 "metadata": {
  "kernelspec": {
   "display_name": "myenv",
   "language": "python",
   "name": "python3"
  },
  "language_info": {
   "codemirror_mode": {
    "name": "ipython",
    "version": 3
   },
   "file_extension": ".py",
   "mimetype": "text/x-python",
   "name": "python",
   "nbconvert_exporter": "python",
   "pygments_lexer": "ipython3",
   "version": "3.13.2"
  }
 },
 "nbformat": 4,
 "nbformat_minor": 5
}
